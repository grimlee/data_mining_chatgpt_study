{
 "cells": [
  {
   "cell_type": "code",
   "execution_count": 1,
   "id": "f4c037a4",
   "metadata": {},
   "outputs": [
    {
     "name": "stdout",
     "output_type": "stream",
     "text": [
      "Requirement already satisfied: polars in /usr/local/python/3.12.1/lib/python3.12/site-packages (1.32.0)\n",
      "\n",
      "\u001b[1m[\u001b[0m\u001b[34;49mnotice\u001b[0m\u001b[1;39;49m]\u001b[0m\u001b[39;49m A new release of pip is available: \u001b[0m\u001b[31;49m25.1.1\u001b[0m\u001b[39;49m -> \u001b[0m\u001b[32;49m25.2\u001b[0m\n",
      "\u001b[1m[\u001b[0m\u001b[34;49mnotice\u001b[0m\u001b[1;39;49m]\u001b[0m\u001b[39;49m To update, run: \u001b[0m\u001b[32;49mpython3 -m pip install --upgrade pip\u001b[0m\n"
     ]
    }
   ],
   "source": [
    "!pip install polars"
   ]
  },
  {
   "cell_type": "code",
   "execution_count": 2,
   "id": "639571bf",
   "metadata": {},
   "outputs": [],
   "source": [
    "# convert .csv to .parquet\n",
    "\n",
    "import glob\n",
    "\n",
    "pths = glob.glob('data/*.csv')\n",
    "\n",
    "import polars as pl\n",
    "\n",
    "for pth in pths:\n",
    "    _name = pth.split(\".\")[0] + \".parquet\"\n",
    "    _df = pl.scan_csv(pth).collect().write_parquet(_name)"
   ]
  },
  {
   "cell_type": "code",
   "execution_count": 7,
   "id": "22d24fc1",
   "metadata": {},
   "outputs": [
    {
     "name": "stdout",
     "output_type": "stream",
     "text": [
      "Total orders rows: 3,421,083\n"
     ]
    }
   ],
   "source": [
    "orders_pth = 'data/orders.parquet'\n",
    "\n",
    "orders = pl.scan_parquet(orders_pth)\n",
    "\n",
    "print(f\"Total orders rows: {orders.collect().shape[0]:,}\")"
   ]
  },
  {
   "cell_type": "code",
   "execution_count": 9,
   "id": "e568968f",
   "metadata": {},
   "outputs": [
    {
     "name": "stdout",
     "output_type": "stream",
     "text": [
      "The unique numeber of customer is 206,209\n"
     ]
    }
   ],
   "source": [
    "print(f\"The unique numeber of customer is {orders.select(\"user_id\").unique().collect().shape[0]:,}\")"
   ]
  },
  {
   "cell_type": "code",
   "execution_count": 10,
   "id": "ba2a9f5d",
   "metadata": {},
   "outputs": [
    {
     "name": "stdout",
     "output_type": "stream",
     "text": [
      "There are 49,688 unique products.\n"
     ]
    }
   ],
   "source": [
    "products_pth = 'data/products.parquet'\n",
    "\n",
    "products = pl.scan_parquet(products_pth)\n",
    "\n",
    "print(f\"There are {products.select(\"product_id\").unique().collect().shape[0]:,} unique products.\")"
   ]
  },
  {
   "cell_type": "code",
   "execution_count": 11,
   "id": "22f93fb3",
   "metadata": {},
   "outputs": [],
   "source": [
    "order_products__prior_pth = 'data/order_products__prior.parquet'\n",
    "order_items = pl.scan_parquet(order_products__prior_pth)"
   ]
  },
  {
   "cell_type": "code",
   "execution_count": 18,
   "id": "047c1f1f",
   "metadata": {},
   "outputs": [],
   "source": [
    "top5 = order_items.select(pl.col(\"product_id\").value_counts(sort=True)).head(5).collect().unnest(\"product_id\")"
   ]
  },
  {
   "cell_type": "code",
   "execution_count": 27,
   "id": "af6e430d",
   "metadata": {},
   "outputs": [
    {
     "name": "stdout",
     "output_type": "stream",
     "text": [
      "\n",
      " Top 5 is:\n",
      " shape: (5, 3)\n",
      "┌────────────┬────────┬────────────────────────┐\n",
      "│ product_id ┆ count  ┆ product_name           │\n",
      "│ ---        ┆ ---    ┆ ---                    │\n",
      "│ i64        ┆ u32    ┆ str                    │\n",
      "╞════════════╪════════╪════════════════════════╡\n",
      "│ 24852      ┆ 472565 ┆ Banana                 │\n",
      "│ 13176      ┆ 379450 ┆ Bag of Organic Bananas │\n",
      "│ 21137      ┆ 264683 ┆ Organic Strawberries   │\n",
      "│ 21903      ┆ 241921 ┆ Organic Baby Spinach   │\n",
      "│ 47209      ┆ 213584 ┆ Organic Hass Avocado   │\n",
      "└────────────┴────────┴────────────────────────┘\n"
     ]
    }
   ],
   "source": [
    "print(\"\\n Top 5 is:\\n\", top5.with_columns(product_name=pl.col(\"product_id\").replace_strict(dict(zip(products.collect()[\"product_id\"], products.collect()[\"product_name\"])))))"
   ]
  }
 ],
 "metadata": {
  "kernelspec": {
   "display_name": "Python 3",
   "language": "python",
   "name": "python3"
  },
  "language_info": {
   "codemirror_mode": {
    "name": "ipython",
    "version": 3
   },
   "file_extension": ".py",
   "mimetype": "text/x-python",
   "name": "python",
   "nbconvert_exporter": "python",
   "pygments_lexer": "ipython3",
   "version": "3.12.1"
  }
 },
 "nbformat": 4,
 "nbformat_minor": 5
}
